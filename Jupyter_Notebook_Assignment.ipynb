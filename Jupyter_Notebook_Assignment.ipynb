{
 "cells": [
  {
   "cell_type": "markdown",
   "metadata": {},
   "source": [
    "<center>\n",
    "    <img src=\"https://cf-courses-data.s3.us.cloud-object-storage.appdomain.cloud/IBMDeveloperSkillsNetwork-DS0105EN-SkillsNetwork/labs/Module2/images/SN_web_lightmode.png\" width=\"300\" alt=\"cognitiveclass.ai logo\">\n",
    "</center>\n"
   ]
  },
  {
   "cell_type": "markdown",
   "metadata": {},
   "source": [
    "#### Add your code below following the instructions given in the course\n"
   ]
  },
  {
   "cell_type": "markdown",
   "metadata": {},
   "source": [
    "# My Jupyter Notebook on IBM Watson Studio"
   ]
  },
  {
   "cell_type": "markdown",
   "metadata": {},
   "source": [
    "**Pedro Rocha Pinto**  \n",
    "Data Scientist aspirant"
   ]
  },
  {
   "cell_type": "markdown",
   "metadata": {},
   "source": [
    "*Anything can generate data and be improved. There are many industries types generating a variety of data and with some insights you can help them achieve their goals.*"
   ]
  },
  {
   "cell_type": "markdown",
   "metadata": {},
   "source": [
    "### The following code calculates your Body Mass Index (BMI):"
   ]
  },
  {
   "cell_type": "code",
   "execution_count": 8,
   "metadata": {},
   "outputs": [
    {
     "name": "stdout",
     "output_type": "stream",
     "text": [
      "Your BMI is 22.84 kg/m².\n"
     ]
    }
   ],
   "source": [
    "def bmi(masskg, heightm):\n",
    "    return round(masskg/float(heightm**2), 2)\n",
    "\n",
    "answer = bmi(66, 1.70)\n",
    "print(\"Your BMI is \" + str(answer) + \" kg/m².\")"
   ]
  },
  {
   "cell_type": "markdown",
   "metadata": {},
   "source": [
    "***\n",
    "The code requires mass in kilos and height in meters. You can convert mass [here](https://www.unitconverters.net/weight-and-mass-converter.html) and height [here](https://www.unitconverters.net/length-converter.html).\n",
    " \n",
    "Your result may suggest the following:\n",
    " \n",
    "| Range | Category |\n",
    "| --- | --- |\n",
    "| < 18.5 | Underweight |\n",
    "| 18.5 – 24.9 | Healthy Weight |\n",
    "| 25 – 29.9 | Overweight |\n",
    "| 30 > | Obese |\n",
    " \n",
    " Who should not use BMI:\n",
    " - Children\n",
    " - Elders\n",
    " - Pregnant\n",
    " - Muscle builders\n",
    " \n",
    "***"
   ]
  },
  {
   "cell_type": "code",
   "execution_count": null,
   "metadata": {},
   "outputs": [],
   "source": []
  }
 ],
 "metadata": {
  "kernelspec": {
   "display_name": "Python",
   "language": "python",
   "name": "conda-env-python-py"
  },
  "language_info": {
   "codemirror_mode": {
    "name": "ipython",
    "version": 3
   },
   "file_extension": ".py",
   "mimetype": "text/x-python",
   "name": "python",
   "nbconvert_exporter": "python",
   "pygments_lexer": "ipython3",
   "version": "3.7.12"
  }
 },
 "nbformat": 4,
 "nbformat_minor": 4
}
